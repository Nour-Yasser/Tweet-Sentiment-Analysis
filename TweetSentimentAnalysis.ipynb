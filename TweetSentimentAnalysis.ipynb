{
  "nbformat": 4,
  "nbformat_minor": 0,
  "metadata": {
    "colab": {
      "provenance": [],
      "gpuType": "T4",
      "authorship_tag": "ABX9TyM3OG69MGwMuQAy6HSRXfCh",
      "include_colab_link": true
    },
    "kernelspec": {
      "name": "python3",
      "display_name": "Python 3"
    },
    "language_info": {
      "name": "python"
    },
    "accelerator": "GPU"
  },
  "cells": [
    {
      "cell_type": "markdown",
      "metadata": {
        "id": "view-in-github",
        "colab_type": "text"
      },
      "source": [
        "<a href=\"https://colab.research.google.com/github/Nour-Yasser/Tweet-Sentiment-Analysis/blob/main/TweetSentimentAnalysis.ipynb\" target=\"_parent\"><img src=\"https://colab.research.google.com/assets/colab-badge.svg\" alt=\"Open In Colab\"/></a>"
      ]
    },
    {
      "cell_type": "code",
      "execution_count": null,
      "metadata": {
        "id": "RZOaaKe4wcVM"
      },
      "outputs": [],
      "source": [
        "import pandas as pd\n",
        "import tensorflow as tf\n",
        "from sklearn.model_selection import train_test_split\n",
        "import re\n",
        "import time\n",
        "from tensorflow.keras import Sequential\n",
        "from tensorflow.keras.layers import Embedding, SimpleRNN, Dense\n",
        "from tensorflow.keras.optimizers import Adam\n",
        "from tensorflow.keras.layers import LSTM"
      ]
    },
    {
      "cell_type": "markdown",
      "source": [
        "Importing necessary libraries:\n",
        "This cell imports essential libraries for data handling (pandas), machine learning with TensorFlow (tensorflow and Keras modules), dataset splitting (train_test_split), regular expressions (re), and measuring training time (time). These tools are used throughout the project to build, train, and evaluate the RNN and LSTM models for sentiment analysis."
      ],
      "metadata": {
        "id": "YVK-YOTMODHS"
      }
    },
    {
      "cell_type": "code",
      "source": [
        "file_path = 'training.csv'\n",
        "df = pd.read_csv(file_path, header = None, encoding = 'latin-1')"
      ],
      "metadata": {
        "id": "Lj6gEvkFEZWT"
      },
      "execution_count": null,
      "outputs": []
    },
    {
      "cell_type": "markdown",
      "source": [
        "Loading the dataset:\n",
        "This cell reads the tweet sentiment dataset from a CSV file named 'training.csv' into a pandas DataFrame. The file has no header row, so header=None is used. The 'latin-1' encoding ensures special characters in the tweets are correctly read.\n"
      ],
      "metadata": {
        "id": "-U-e5vg_OEqW"
      }
    },
    {
      "cell_type": "code",
      "source": [
        "df = df[[0,5]]\n",
        "df.columns = ['label', 'text']\n",
        "df['label'] = df['label'].replace(4,1)\n",
        "df.head()"
      ],
      "metadata": {
        "colab": {
          "base_uri": "https://localhost:8080/",
          "height": 310
        },
        "id": "ZPB1KIY2M4FM",
        "outputId": "6d7d5788-1019-44f4-be14-66e932015e9e"
      },
      "execution_count": null,
      "outputs": [
        {
          "output_type": "stream",
          "name": "stderr",
          "text": [
            "<ipython-input-5-861b682b0ca5>:3: SettingWithCopyWarning: \n",
            "A value is trying to be set on a copy of a slice from a DataFrame.\n",
            "Try using .loc[row_indexer,col_indexer] = value instead\n",
            "\n",
            "See the caveats in the documentation: https://pandas.pydata.org/pandas-docs/stable/user_guide/indexing.html#returning-a-view-versus-a-copy\n",
            "  df['label'] = df['label'].replace(4,1)\n"
          ]
        },
        {
          "output_type": "execute_result",
          "data": {
            "text/plain": [
              "   label                                               text\n",
              "0      0  @switchfoot http://twitpic.com/2y1zl - Awww, t...\n",
              "1      0  is upset that he can't update his Facebook by ...\n",
              "2      0  @Kenichan I dived many times for the ball. Man...\n",
              "3      0    my whole body feels itchy and like its on fire \n",
              "4      0  @nationwideclass no, it's not behaving at all...."
            ],
            "text/html": [
              "\n",
              "  <div id=\"df-a866d672-ec30-4dc2-9c15-1e735bbefe3d\" class=\"colab-df-container\">\n",
              "    <div>\n",
              "<style scoped>\n",
              "    .dataframe tbody tr th:only-of-type {\n",
              "        vertical-align: middle;\n",
              "    }\n",
              "\n",
              "    .dataframe tbody tr th {\n",
              "        vertical-align: top;\n",
              "    }\n",
              "\n",
              "    .dataframe thead th {\n",
              "        text-align: right;\n",
              "    }\n",
              "</style>\n",
              "<table border=\"1\" class=\"dataframe\">\n",
              "  <thead>\n",
              "    <tr style=\"text-align: right;\">\n",
              "      <th></th>\n",
              "      <th>label</th>\n",
              "      <th>text</th>\n",
              "    </tr>\n",
              "  </thead>\n",
              "  <tbody>\n",
              "    <tr>\n",
              "      <th>0</th>\n",
              "      <td>0</td>\n",
              "      <td>@switchfoot http://twitpic.com/2y1zl - Awww, t...</td>\n",
              "    </tr>\n",
              "    <tr>\n",
              "      <th>1</th>\n",
              "      <td>0</td>\n",
              "      <td>is upset that he can't update his Facebook by ...</td>\n",
              "    </tr>\n",
              "    <tr>\n",
              "      <th>2</th>\n",
              "      <td>0</td>\n",
              "      <td>@Kenichan I dived many times for the ball. Man...</td>\n",
              "    </tr>\n",
              "    <tr>\n",
              "      <th>3</th>\n",
              "      <td>0</td>\n",
              "      <td>my whole body feels itchy and like its on fire</td>\n",
              "    </tr>\n",
              "    <tr>\n",
              "      <th>4</th>\n",
              "      <td>0</td>\n",
              "      <td>@nationwideclass no, it's not behaving at all....</td>\n",
              "    </tr>\n",
              "  </tbody>\n",
              "</table>\n",
              "</div>\n",
              "    <div class=\"colab-df-buttons\">\n",
              "\n",
              "  <div class=\"colab-df-container\">\n",
              "    <button class=\"colab-df-convert\" onclick=\"convertToInteractive('df-a866d672-ec30-4dc2-9c15-1e735bbefe3d')\"\n",
              "            title=\"Convert this dataframe to an interactive table.\"\n",
              "            style=\"display:none;\">\n",
              "\n",
              "  <svg xmlns=\"http://www.w3.org/2000/svg\" height=\"24px\" viewBox=\"0 -960 960 960\">\n",
              "    <path d=\"M120-120v-720h720v720H120Zm60-500h600v-160H180v160Zm220 220h160v-160H400v160Zm0 220h160v-160H400v160ZM180-400h160v-160H180v160Zm440 0h160v-160H620v160ZM180-180h160v-160H180v160Zm440 0h160v-160H620v160Z\"/>\n",
              "  </svg>\n",
              "    </button>\n",
              "\n",
              "  <style>\n",
              "    .colab-df-container {\n",
              "      display:flex;\n",
              "      gap: 12px;\n",
              "    }\n",
              "\n",
              "    .colab-df-convert {\n",
              "      background-color: #E8F0FE;\n",
              "      border: none;\n",
              "      border-radius: 50%;\n",
              "      cursor: pointer;\n",
              "      display: none;\n",
              "      fill: #1967D2;\n",
              "      height: 32px;\n",
              "      padding: 0 0 0 0;\n",
              "      width: 32px;\n",
              "    }\n",
              "\n",
              "    .colab-df-convert:hover {\n",
              "      background-color: #E2EBFA;\n",
              "      box-shadow: 0px 1px 2px rgba(60, 64, 67, 0.3), 0px 1px 3px 1px rgba(60, 64, 67, 0.15);\n",
              "      fill: #174EA6;\n",
              "    }\n",
              "\n",
              "    .colab-df-buttons div {\n",
              "      margin-bottom: 4px;\n",
              "    }\n",
              "\n",
              "    [theme=dark] .colab-df-convert {\n",
              "      background-color: #3B4455;\n",
              "      fill: #D2E3FC;\n",
              "    }\n",
              "\n",
              "    [theme=dark] .colab-df-convert:hover {\n",
              "      background-color: #434B5C;\n",
              "      box-shadow: 0px 1px 3px 1px rgba(0, 0, 0, 0.15);\n",
              "      filter: drop-shadow(0px 1px 2px rgba(0, 0, 0, 0.3));\n",
              "      fill: #FFFFFF;\n",
              "    }\n",
              "  </style>\n",
              "\n",
              "    <script>\n",
              "      const buttonEl =\n",
              "        document.querySelector('#df-a866d672-ec30-4dc2-9c15-1e735bbefe3d button.colab-df-convert');\n",
              "      buttonEl.style.display =\n",
              "        google.colab.kernel.accessAllowed ? 'block' : 'none';\n",
              "\n",
              "      async function convertToInteractive(key) {\n",
              "        const element = document.querySelector('#df-a866d672-ec30-4dc2-9c15-1e735bbefe3d');\n",
              "        const dataTable =\n",
              "          await google.colab.kernel.invokeFunction('convertToInteractive',\n",
              "                                                    [key], {});\n",
              "        if (!dataTable) return;\n",
              "\n",
              "        const docLinkHtml = 'Like what you see? Visit the ' +\n",
              "          '<a target=\"_blank\" href=https://colab.research.google.com/notebooks/data_table.ipynb>data table notebook</a>'\n",
              "          + ' to learn more about interactive tables.';\n",
              "        element.innerHTML = '';\n",
              "        dataTable['output_type'] = 'display_data';\n",
              "        await google.colab.output.renderOutput(dataTable, element);\n",
              "        const docLink = document.createElement('div');\n",
              "        docLink.innerHTML = docLinkHtml;\n",
              "        element.appendChild(docLink);\n",
              "      }\n",
              "    </script>\n",
              "  </div>\n",
              "\n",
              "\n",
              "    <div id=\"df-78da8e1c-87a0-4293-a1ac-2487c976d081\">\n",
              "      <button class=\"colab-df-quickchart\" onclick=\"quickchart('df-78da8e1c-87a0-4293-a1ac-2487c976d081')\"\n",
              "                title=\"Suggest charts\"\n",
              "                style=\"display:none;\">\n",
              "\n",
              "<svg xmlns=\"http://www.w3.org/2000/svg\" height=\"24px\"viewBox=\"0 0 24 24\"\n",
              "     width=\"24px\">\n",
              "    <g>\n",
              "        <path d=\"M19 3H5c-1.1 0-2 .9-2 2v14c0 1.1.9 2 2 2h14c1.1 0 2-.9 2-2V5c0-1.1-.9-2-2-2zM9 17H7v-7h2v7zm4 0h-2V7h2v10zm4 0h-2v-4h2v4z\"/>\n",
              "    </g>\n",
              "</svg>\n",
              "      </button>\n",
              "\n",
              "<style>\n",
              "  .colab-df-quickchart {\n",
              "      --bg-color: #E8F0FE;\n",
              "      --fill-color: #1967D2;\n",
              "      --hover-bg-color: #E2EBFA;\n",
              "      --hover-fill-color: #174EA6;\n",
              "      --disabled-fill-color: #AAA;\n",
              "      --disabled-bg-color: #DDD;\n",
              "  }\n",
              "\n",
              "  [theme=dark] .colab-df-quickchart {\n",
              "      --bg-color: #3B4455;\n",
              "      --fill-color: #D2E3FC;\n",
              "      --hover-bg-color: #434B5C;\n",
              "      --hover-fill-color: #FFFFFF;\n",
              "      --disabled-bg-color: #3B4455;\n",
              "      --disabled-fill-color: #666;\n",
              "  }\n",
              "\n",
              "  .colab-df-quickchart {\n",
              "    background-color: var(--bg-color);\n",
              "    border: none;\n",
              "    border-radius: 50%;\n",
              "    cursor: pointer;\n",
              "    display: none;\n",
              "    fill: var(--fill-color);\n",
              "    height: 32px;\n",
              "    padding: 0;\n",
              "    width: 32px;\n",
              "  }\n",
              "\n",
              "  .colab-df-quickchart:hover {\n",
              "    background-color: var(--hover-bg-color);\n",
              "    box-shadow: 0 1px 2px rgba(60, 64, 67, 0.3), 0 1px 3px 1px rgba(60, 64, 67, 0.15);\n",
              "    fill: var(--button-hover-fill-color);\n",
              "  }\n",
              "\n",
              "  .colab-df-quickchart-complete:disabled,\n",
              "  .colab-df-quickchart-complete:disabled:hover {\n",
              "    background-color: var(--disabled-bg-color);\n",
              "    fill: var(--disabled-fill-color);\n",
              "    box-shadow: none;\n",
              "  }\n",
              "\n",
              "  .colab-df-spinner {\n",
              "    border: 2px solid var(--fill-color);\n",
              "    border-color: transparent;\n",
              "    border-bottom-color: var(--fill-color);\n",
              "    animation:\n",
              "      spin 1s steps(1) infinite;\n",
              "  }\n",
              "\n",
              "  @keyframes spin {\n",
              "    0% {\n",
              "      border-color: transparent;\n",
              "      border-bottom-color: var(--fill-color);\n",
              "      border-left-color: var(--fill-color);\n",
              "    }\n",
              "    20% {\n",
              "      border-color: transparent;\n",
              "      border-left-color: var(--fill-color);\n",
              "      border-top-color: var(--fill-color);\n",
              "    }\n",
              "    30% {\n",
              "      border-color: transparent;\n",
              "      border-left-color: var(--fill-color);\n",
              "      border-top-color: var(--fill-color);\n",
              "      border-right-color: var(--fill-color);\n",
              "    }\n",
              "    40% {\n",
              "      border-color: transparent;\n",
              "      border-right-color: var(--fill-color);\n",
              "      border-top-color: var(--fill-color);\n",
              "    }\n",
              "    60% {\n",
              "      border-color: transparent;\n",
              "      border-right-color: var(--fill-color);\n",
              "    }\n",
              "    80% {\n",
              "      border-color: transparent;\n",
              "      border-right-color: var(--fill-color);\n",
              "      border-bottom-color: var(--fill-color);\n",
              "    }\n",
              "    90% {\n",
              "      border-color: transparent;\n",
              "      border-bottom-color: var(--fill-color);\n",
              "    }\n",
              "  }\n",
              "</style>\n",
              "\n",
              "      <script>\n",
              "        async function quickchart(key) {\n",
              "          const quickchartButtonEl =\n",
              "            document.querySelector('#' + key + ' button');\n",
              "          quickchartButtonEl.disabled = true;  // To prevent multiple clicks.\n",
              "          quickchartButtonEl.classList.add('colab-df-spinner');\n",
              "          try {\n",
              "            const charts = await google.colab.kernel.invokeFunction(\n",
              "                'suggestCharts', [key], {});\n",
              "          } catch (error) {\n",
              "            console.error('Error during call to suggestCharts:', error);\n",
              "          }\n",
              "          quickchartButtonEl.classList.remove('colab-df-spinner');\n",
              "          quickchartButtonEl.classList.add('colab-df-quickchart-complete');\n",
              "        }\n",
              "        (() => {\n",
              "          let quickchartButtonEl =\n",
              "            document.querySelector('#df-78da8e1c-87a0-4293-a1ac-2487c976d081 button');\n",
              "          quickchartButtonEl.style.display =\n",
              "            google.colab.kernel.accessAllowed ? 'block' : 'none';\n",
              "        })();\n",
              "      </script>\n",
              "    </div>\n",
              "\n",
              "    </div>\n",
              "  </div>\n"
            ],
            "application/vnd.google.colaboratory.intrinsic+json": {
              "type": "dataframe",
              "variable_name": "df"
            }
          },
          "metadata": {},
          "execution_count": 5
        }
      ]
    },
    {
      "cell_type": "markdown",
      "source": [
        "Select only the columns for sentiment label and tweet text\n",
        "\n",
        "Rename columns to 'label' and 'text' for clarity\n",
        "\n",
        "Convert positive labels from 4 to 1 for binary classification (0 = negative, 1 = positive)\n",
        "\n",
        "Display the first few rows to verify the data looks correct"
      ],
      "metadata": {
        "id": "yOd8CaErOWp_"
      }
    },
    {
      "cell_type": "code",
      "source": [
        "def preprocess_text(text):\n",
        "    text = str(text).lower()  # ensure it's string + lowercase\n",
        "    text = re.sub(r'@\\w+', '', text)  # remove @mentions\n",
        "    text = re.sub(r'http\\S+|www\\S+', '', text)  # remove URLs\n",
        "    text = re.sub(r'#', '', text)  # remove hashtag symbols\n",
        "    text = re.sub(r'[^a-zA-Z0-9\\s]', '', text)  # remove punctuation\n",
        "    text = re.sub(r'\\s+', ' ', text).strip()  # trim extra spaces\n",
        "    return text\n",
        "\n",
        "df['text'] = df['text'].apply(preprocess_text)\n"
      ],
      "metadata": {
        "id": "p2B-aqHrWhQM"
      },
      "execution_count": null,
      "outputs": []
    },
    {
      "cell_type": "markdown",
      "source": [
        "Define a function to clean and preprocess tweet text:\n",
        "\n",
        "Convert text to lowercase\n",
        "\n",
        "Remove Twitter usernames (mentions starting with @)\n",
        "\n",
        "Remove URLs starting with http or www\n",
        "\n",
        "Remove hashtag symbols (#) but keep the words\n",
        "\n",
        "Remove punctuation and special characters\n",
        "\n",
        "Remove extra spaces and trim leading/trailing spaces\n",
        "\n",
        "Apply this function to every tweet in the dataset to clean the text before modeling\n"
      ],
      "metadata": {
        "id": "Pyr6c23gOdQB"
      }
    },
    {
      "cell_type": "code",
      "source": [
        "tokenizer = tf.keras.preprocessing.text.Tokenizer(num_words=10000, oov_token = \"<OOV>\")\n",
        "tokenizer.fit_on_texts(df['text'])\n",
        "sequence = tokenizer.texts_to_sequences(df['text'])\n",
        "padded = tf.keras.preprocessing.sequence.pad_sequences(sequence, maxlen=50, padding='post')\n"
      ],
      "metadata": {
        "id": "SGlAgvGGXBji"
      },
      "execution_count": null,
      "outputs": []
    },
    {
      "cell_type": "markdown",
      "source": [
        "Create a tokenizer to convert words into integer indexes, limiting vocabulary to the top 10,000 words\n",
        "\n",
        "Include an out-of-vocabulary (<OOV>) token to handle unseen words during training and testing\n",
        "\n",
        "Fit the tokenizer on the cleaned tweet texts to build the word index\n",
        "\n",
        "Convert each tweet into a sequence of integers based on the tokenizer’s vocabulary\n",
        "\n",
        "Pad all sequences to a fixed length of 50 tokens, adding zeros at the end to ensure uniform input size for the models"
      ],
      "metadata": {
        "id": "kvBTYE2AOkBT"
      }
    },
    {
      "cell_type": "code",
      "source": [
        "# Get features and labels\n",
        "X = padded\n",
        "y = df['label'].values\n",
        "\n",
        "# Split: 80% train, 10% val, 10% test\n",
        "X_train, X_temp, y_train, y_temp = train_test_split(X, y, test_size=0.2, random_state=42)\n",
        "X_val, X_test, y_val, y_test = train_test_split(X_temp, y_temp, test_size=0.5, random_state=42)\n"
      ],
      "metadata": {
        "id": "Ret87BmUYNxL"
      },
      "execution_count": null,
      "outputs": []
    },
    {
      "cell_type": "markdown",
      "source": [
        "Assign the padded sequences as features (X) and the sentiment labels as targets (y)\n",
        "\n",
        "Split the dataset into training (80%) and temporary sets (20%)\n",
        "\n",
        "Further split the temporary set equally into validation (10%) and testing (10%) sets\n",
        "\n",
        "Use a fixed random seed (random_state=42) for reproducible splits"
      ],
      "metadata": {
        "id": "Eq1KFsZzOtcW"
      }
    },
    {
      "cell_type": "code",
      "source": [
        "rnn_model = Sequential([\n",
        "    Embedding(input_dim=10000, output_dim=64, input_length=100),\n",
        "    SimpleRNN(64),\n",
        "    Dense(1, activation='sigmoid')\n",
        "])\n",
        "\n",
        "\n",
        "rnn_model.compile(loss='binary_crossentropy', optimizer= 'adam', metrics=['accuracy'])"
      ],
      "metadata": {
        "id": "p4J8tJMLAG56"
      },
      "execution_count": null,
      "outputs": []
    },
    {
      "cell_type": "markdown",
      "source": [
        "Build a simple RNN model using Keras Sequential API:\n",
        "\n",
        "Add an Embedding layer to convert word indices into 64-dimensional vectors\n",
        "\n",
        "Add a SimpleRNN layer with 64 units to process the sequential data\n",
        "\n",
        "Add a Dense output layer with a sigmoid activation for binary classification\n",
        "\n",
        "Compile the model using binary crossentropy loss, Adam optimizer, and track accuracy as a metric\n"
      ],
      "metadata": {
        "id": "jpJ6H4YEO1kN"
      }
    },
    {
      "cell_type": "code",
      "source": [
        "# Train RNN\n",
        "start_rnn = time.time()\n",
        "rnn_history = rnn_model.fit(X_train, y_train, validation_data=(X_val, y_val), epochs=2, batch_size=128)\n",
        "end_rnn = time.time()\n"
      ],
      "metadata": {
        "colab": {
          "base_uri": "https://localhost:8080/"
        },
        "id": "Qk3nhjf5A2Xa",
        "outputId": "ec004534-6aee-4ce7-d67b-2115cad39a43"
      },
      "execution_count": null,
      "outputs": [
        {
          "output_type": "stream",
          "name": "stdout",
          "text": [
            "Epoch 1/2\n",
            "\u001b[1m10000/10000\u001b[0m \u001b[32m━━━━━━━━━━━━━━━━━━━━\u001b[0m\u001b[37m\u001b[0m \u001b[1m64s\u001b[0m 6ms/step - accuracy: 0.7628 - loss: 0.4945 - val_accuracy: 0.7943 - val_loss: 0.4423\n",
            "Epoch 2/2\n",
            "\u001b[1m10000/10000\u001b[0m \u001b[32m━━━━━━━━━━━━━━━━━━━━\u001b[0m\u001b[37m\u001b[0m \u001b[1m60s\u001b[0m 6ms/step - accuracy: 0.7992 - loss: 0.4370 - val_accuracy: 0.8011 - val_loss: 0.4365\n"
          ]
        }
      ]
    },
    {
      "cell_type": "markdown",
      "source": [
        "\n",
        "Start a timer to measure training duration\n",
        "\n",
        "Train the RNN model on the training data (X_train, y_train)\n",
        "\n",
        "Use the validation set (X_val, y_val) to monitor performance during training\n",
        "\n",
        "Train for 2 epochs with a batch size of 128 samples\n",
        "\n",
        "Stop the timer after training completes to calculate total training time\n"
      ],
      "metadata": {
        "id": "mUzzXCXnO9eb"
      }
    },
    {
      "cell_type": "code",
      "source": [
        "# Evaluate on test set\n",
        "rnn_loss, rnn_accuracy = rnn_model.evaluate(X_test, y_test)\n",
        "rnn_time = end_rnn - start_rnn"
      ],
      "metadata": {
        "colab": {
          "base_uri": "https://localhost:8080/"
        },
        "id": "0i4ptRS0J0Vq",
        "outputId": "baab6a46-a82c-4a4a-e6d7-8219ab18c075"
      },
      "execution_count": null,
      "outputs": [
        {
          "output_type": "stream",
          "name": "stdout",
          "text": [
            "\u001b[1m5000/5000\u001b[0m \u001b[32m━━━━━━━━━━━━━━━━━━━━\u001b[0m\u001b[37m\u001b[0m \u001b[1m16s\u001b[0m 3ms/step - accuracy: 0.8016 - loss: 0.4353\n"
          ]
        }
      ]
    },
    {
      "cell_type": "markdown",
      "source": [
        "Evaluate the trained RNN model’s performance on the unseen test set (X_test, y_test)\n",
        "\n",
        "Calculate and store the test loss and accuracy metrics\n",
        "\n",
        "Compute the total training time by subtracting start time from end time"
      ],
      "metadata": {
        "id": "y8QXAwGfPFbH"
      }
    },
    {
      "cell_type": "code",
      "source": [
        "# Build LSTM model\n",
        "lstm_model = Sequential([\n",
        "    Embedding(input_dim=10000, output_dim=64, input_length=100),\n",
        "    LSTM(64),\n",
        "    Dense(1, activation='sigmoid')\n",
        "])\n",
        "\n",
        "lstm_model.compile(loss='binary_crossentropy', optimizer='adam', metrics=['accuracy'])"
      ],
      "metadata": {
        "id": "7eq1A5qaJaIF"
      },
      "execution_count": null,
      "outputs": []
    },
    {
      "cell_type": "markdown",
      "source": [
        "Create an LSTM model using Keras Sequential API:\n",
        "\n",
        "Add an Embedding layer to convert words into 64-dimensional vectors\n",
        "\n",
        "Add an LSTM layer with 64 units to capture long-term dependencies in the text\n",
        "\n",
        "Add a Dense output layer with sigmoid activation for binary sentiment classification\n",
        "\n",
        "Compile the model with binary crossentropy loss, Adam optimizer, and accuracy as the evaluation metric"
      ],
      "metadata": {
        "id": "KZHifSpnPJBJ"
      }
    },
    {
      "cell_type": "code",
      "source": [
        "# Train LSTM\n",
        "start_lstm = time.time()\n",
        "lstm_history = lstm_model.fit(X_train, y_train, validation_data=(X_val, y_val), epochs=2, batch_size=128)\n",
        "end_lstm = time.time()"
      ],
      "metadata": {
        "colab": {
          "base_uri": "https://localhost:8080/"
        },
        "id": "B6Af1yjgJ2sH",
        "outputId": "8c46bada-e895-49d3-f976-262afe84658d"
      },
      "execution_count": null,
      "outputs": [
        {
          "output_type": "stream",
          "name": "stdout",
          "text": [
            "Epoch 1/2\n",
            "\u001b[1m10000/10000\u001b[0m \u001b[32m━━━━━━━━━━━━━━━━━━━━\u001b[0m\u001b[37m\u001b[0m \u001b[1m62s\u001b[0m 6ms/step - accuracy: 0.7694 - loss: 0.4738 - val_accuracy: 0.8151 - val_loss: 0.4052\n",
            "Epoch 2/2\n",
            "\u001b[1m10000/10000\u001b[0m \u001b[32m━━━━━━━━━━━━━━━━━━━━\u001b[0m\u001b[37m\u001b[0m \u001b[1m84s\u001b[0m 6ms/step - accuracy: 0.8222 - loss: 0.3923 - val_accuracy: 0.8215 - val_loss: 0.3915\n"
          ]
        }
      ]
    },
    {
      "cell_type": "markdown",
      "source": [
        "Start a timer to track training duration\n",
        "\n",
        "Train the LSTM model on the training data (X_train, y_train)\n",
        "\n",
        "Validate the model’s performance using the validation set (X_val, y_val) during training\n",
        "\n",
        "Train for 2 epochs with a batch size of 128 samples\n",
        "\n",
        "Stop the timer after training completes to measure total training time"
      ],
      "metadata": {
        "id": "ojvI0XDjPM5D"
      }
    },
    {
      "cell_type": "code",
      "source": [
        "# Evaluate on test set\n",
        "lstm_loss, lstm_accuracy = lstm_model.evaluate(X_test, y_test)\n",
        "lstm_time = end_lstm - start_lstm"
      ],
      "metadata": {
        "colab": {
          "base_uri": "https://localhost:8080/"
        },
        "id": "RcB8bR8eJ7SO",
        "outputId": "f746c0f5-63ab-49e7-a3e9-8cae24726060"
      },
      "execution_count": null,
      "outputs": [
        {
          "output_type": "stream",
          "name": "stdout",
          "text": [
            "\u001b[1m5000/5000\u001b[0m \u001b[32m━━━━━━━━━━━━━━━━━━━━\u001b[0m\u001b[37m\u001b[0m \u001b[1m22s\u001b[0m 4ms/step - accuracy: 0.8232 - loss: 0.3900\n"
          ]
        }
      ]
    },
    {
      "cell_type": "markdown",
      "source": [
        "Evaluate the trained LSTM model on the test dataset (X_test, y_test)\n",
        "\n",
        "Calculate and save the test loss and accuracy metrics\n",
        "\n",
        "Determine the total training time by subtracting the start time from the end time"
      ],
      "metadata": {
        "id": "nVdXbpj2PQ-u"
      }
    },
    {
      "cell_type": "code",
      "source": [
        "import pandas as pd\n",
        "\n",
        "# For RNN history\n",
        "rnn_metrics_df = pd.DataFrame({\n",
        "    'epoch': list(range(1, len(rnn_history.history['loss']) + 1)),\n",
        "    'train_loss_rnn': rnn_history.history['loss'],\n",
        "    'train_acc_rnn': rnn_history.history['accuracy'],\n",
        "    'val_loss_rnn': rnn_history.history['val_loss'],\n",
        "    'val_acc_rnn': rnn_history.history['val_accuracy']\n",
        "})\n",
        "\n",
        "# For LSTM history\n",
        "lstm_metrics_df = pd.DataFrame({\n",
        "    'epoch': list(range(1, len(lstm_history.history['loss']) + 1)),\n",
        "    'train_loss_lstm': lstm_history.history['loss'],\n",
        "    'train_acc_lstm': lstm_history.history['accuracy'],\n",
        "    'val_loss_lstm': lstm_history.history['val_loss'],\n",
        "    'val_acc_lstm': lstm_history.history['val_accuracy']\n",
        "})\n",
        "\n",
        "# Optionally merge these two on 'epoch' for easy comparison\n",
        "metrics_comparison_df = pd.merge(rnn_metrics_df, lstm_metrics_df, on='epoch')\n",
        "print(metrics_comparison_df)\n"
      ],
      "metadata": {
        "colab": {
          "base_uri": "https://localhost:8080/"
        },
        "id": "JVI6RlTZNVpr",
        "outputId": "384b487c-a411-4a64-ab94-6ac76a1b6e50"
      },
      "execution_count": null,
      "outputs": [
        {
          "output_type": "stream",
          "name": "stdout",
          "text": [
            "   epoch  train_loss_rnn  train_acc_rnn  val_loss_rnn  val_acc_rnn  \\\n",
            "0      1        0.464015       0.783286      0.442296     0.794275   \n",
            "1      2        0.436882       0.799580      0.436501     0.801138   \n",
            "\n",
            "   train_loss_lstm  train_acc_lstm  val_loss_lstm  val_acc_lstm  \n",
            "0         0.433035        0.798212       0.405184      0.815106  \n",
            "1         0.390978        0.822405       0.391529      0.821494  \n"
          ]
        }
      ]
    },
    {
      "cell_type": "code",
      "source": [
        "results = pd.DataFrame({\n",
        "    \"Model\": [\"RNN\", \"LSTM\"],\n",
        "    \"Training Time (s)\": [round(rnn_time, 2), round(lstm_time, 2)],\n",
        "    \"Test Loss\": [round(rnn_loss, 4), round(lstm_loss, 4)],\n",
        "    \"Test Accuracy\": [round(rnn_accuracy, 4), round(lstm_accuracy, 4)]\n",
        "})\n",
        "\n",
        "print(results)\n"
      ],
      "metadata": {
        "colab": {
          "base_uri": "https://localhost:8080/"
        },
        "id": "fKdO5VF6LlRt",
        "outputId": "6ebb312d-6ad8-4c08-ddde-307decdaa481"
      },
      "execution_count": null,
      "outputs": [
        {
          "output_type": "stream",
          "name": "stdout",
          "text": [
            "  Model  Training Time (s)  Test Loss  Test Accuracy\n",
            "0   RNN             124.47     0.4372         0.8004\n",
            "1  LSTM             165.58     0.3918         0.8224\n"
          ]
        }
      ]
    }
  ]
}